{
 "cells": [
  {
   "cell_type": "code",
   "execution_count": null,
   "metadata": {},
   "outputs": [],
   "source": [
    "from pathlib import Path\n",
    "import os\n",
    "import pandas as pd\n",
    "import seaborn as sns\n",
    "from scripts.proxy import GameProxy\n",
    "\n",
    "os.environ[\"RUST_BACKTRACE\"] = \"1\""
   ]
  },
  {
   "cell_type": "code",
   "execution_count": null,
   "metadata": {},
   "outputs": [],
   "source": [
    "GAME_INFO_FILE = \"./examples/board.json\"\n",
    "RESULT_FILE = str(Path(GAME_INFO_FILE).with_suffix(\".analyzed.csv\"))\n",
    "ITERATION = 500\n",
    "SIMULATE_TURN = 30\n",
    "PLAYER_NUM = 2"
   ]
  },
  {
   "cell_type": "code",
   "execution_count": null,
   "metadata": {},
   "outputs": [],
   "source": [
    "proxy = GameProxy()\n",
    "\n",
    "proxy.load(GAME_INFO_FILE)\n",
    "proxy.analyze(RESULT_FILE, ITERATION, SIMULATE_TURN)\n",
    "proxy.kill()"
   ]
  },
  {
   "cell_type": "code",
   "execution_count": null,
   "metadata": {},
   "outputs": [],
   "source": [
    "data = pd.read_csv(RESULT_FILE)\n",
    "data.describe()"
   ]
  },
  {
   "cell_type": "code",
   "execution_count": null,
   "metadata": {},
   "outputs": [],
   "source": [
    "data.head()"
   ]
  },
  {
   "cell_type": "code",
   "execution_count": null,
   "metadata": {},
   "outputs": [],
   "source": [
    "sns.lineplot(x=\"turn\", y=\"money\", hue=\"player\", data=data)"
   ]
  },
  {
   "cell_type": "code",
   "execution_count": null,
   "metadata": {},
   "outputs": [],
   "source": [
    "sns.lineplot(x=\"turn\", y=\"tap\", hue=\"player\", data=data)"
   ]
  },
  {
   "cell_type": "code",
   "execution_count": null,
   "metadata": {},
   "outputs": [],
   "source": [
    "bankrupted = data.loc[(data[\"turn\"] == SIMULATE_TURN) & (data[\"money\"] == 0) & (data[\"tap\"] == 0)]\n",
    "\n",
    "for player in range(PLAYER_NUM):\n",
    "    bankrupted_num = len(bankrupted.loc[data[\"player\"] == player])\n",
    "    print(f\"Player{player} Survival rate: {(1 - bankrupted_num / ITERATION) * 100:.1f}% ({ITERATION - bankrupted_num}/{ITERATION})\")"
   ]
  }
 ],
 "metadata": {
  "kernelspec": {
   "display_name": "Python 3",
   "language": "python",
   "name": "python3"
  },
  "language_info": {
   "codemirror_mode": {
    "name": "ipython",
    "version": 3
   },
   "file_extension": ".py",
   "mimetype": "text/x-python",
   "name": "python",
   "nbconvert_exporter": "python",
   "pygments_lexer": "ipython3",
   "version": "3.10.8"
  },
  "orig_nbformat": 4,
  "vscode": {
   "interpreter": {
    "hash": "b0fa6594d8f4cbf19f97940f81e996739fb7646882a419484c72d19e05852a7e"
   }
  }
 },
 "nbformat": 4,
 "nbformat_minor": 2
}
